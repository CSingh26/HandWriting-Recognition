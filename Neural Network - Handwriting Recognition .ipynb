{
 "cells": [
  {
   "cell_type": "markdown",
   "id": "1a130a4f",
   "metadata": {},
   "source": [
    "# Introduction to the Project"
   ]
  },
  {
   "cell_type": "markdown",
   "id": "d1e81ee1",
   "metadata": {},
   "source": [
    "In my chosen project, I went into the world of machine learning by concentrating on Neural Networks in particular. The MNIST dataset, obtained from its official source, served as the foundation for my experiments and model building. This dataset, which included both training and assessment sets, served as a solid foundation for training and refining my machine learning model.\n",
    "\n",
    "TensorFlow, a strong Python framework designed for machine learning applications, became the foundation of my project. Its comprehensive set of tools and features provided invaluable assistance in establishing, fine-tuning, and optimising the neural network model. TensorFlow's user-friendly interface allowed me to navigate through sophisticated neural network designs with relative ease, allowing me to focus on the model's complexities rather than implementation challenges.\n",
    "\n",
    "Throughout this project, I became engaged in the subtleties of neural networks, learning about their layers, activations, and optimisation strategies. The ongoing process of training and refining the model with the MNIST dataset provides significant insights into machine learning's inner workings.\n",
    "\n",
    "Overall, this project provided as a thorough examination of neural networks, aided by TensorFlow's essential assistance, allowing me to navigate the realm of machine learning and get practical expertise in creating and refining models for image recognition tasks."
   ]
  },
  {
   "cell_type": "markdown",
   "id": "e48e5b90",
   "metadata": {},
   "source": [
    "# Imports"
   ]
  },
  {
   "cell_type": "code",
   "execution_count": 1,
   "id": "1f3b8285",
   "metadata": {
    "executionInfo": {
     "elapsed": 7076,
     "status": "ok",
     "timestamp": 1699609303821,
     "user": {
      "displayName": "Chaitanya Singh",
      "userId": "01728994715768301794"
     },
     "user_tz": 420
    },
    "id": "1f3b8285"
   },
   "outputs": [],
   "source": [
    "from numpy.random import seed\n",
    "seed(888)\n",
    "from tensorflow import random\n",
    "random.set_seed(404)"
   ]
  },
  {
   "cell_type": "code",
   "execution_count": 2,
   "id": "3b7382c5",
   "metadata": {
    "colab": {
     "base_uri": "https://localhost:8080/"
    },
    "executionInfo": {
     "elapsed": 5,
     "status": "ok",
     "timestamp": 1699609306946,
     "user": {
      "displayName": "Chaitanya Singh",
      "userId": "01728994715768301794"
     },
     "user_tz": 420
    },
    "id": "3b7382c5",
    "outputId": "ba2ea623-dc72-4d9e-a04e-533df875c764"
   },
   "outputs": [
    {
     "name": "stdout",
     "output_type": "stream",
     "text": [
      "WARNING:tensorflow:From /opt/homebrew/anaconda3/lib/python3.11/site-packages/tensorflow/python/compat/v2_compat.py:108: disable_resource_variables (from tensorflow.python.ops.variable_scope) is deprecated and will be removed in a future version.\n",
      "Instructions for updating:\n",
      "non-resource variables are not supported in the long term\n"
     ]
    }
   ],
   "source": [
    "import os\n",
    "import numpy as np\n",
    "import tensorflow.compat.v1 as tf\n",
    "tf.disable_v2_behavior()\n",
    "\n",
    "from time import  strftime\n",
    "from PIL import Image"
   ]
  },
  {
   "cell_type": "markdown",
   "id": "626f1289",
   "metadata": {
    "id": "626f1289"
   },
   "source": [
    "# Constants"
   ]
  },
  {
   "cell_type": "code",
   "execution_count": 3,
   "id": "fd44996e",
   "metadata": {
    "executionInfo": {
     "elapsed": 198,
     "status": "ok",
     "timestamp": 1699609313712,
     "user": {
      "displayName": "Chaitanya Singh",
      "userId": "01728994715768301794"
     },
     "user_tz": 420
    },
    "id": "fd44996e"
   },
   "outputs": [],
   "source": [
    "X_TRAIN_PATH = 'MINIST/digit_xtrain.csv'\n",
    "X_TEST_PATH = 'MINIST/digit_xtest.csv'\n",
    "Y_TRAIN_PATH = 'MINIST/digit_ytrain.csv'\n",
    "Y_TEST_PATH = 'MINIST/digit_ytest.csv'\n",
    "\n",
    "LOGGING_PATH = 'tensorboard_mnist_digit_logs/'\n",
    "\n",
    "NR_CLASSES = 10\n",
    "VALIDATION_SIZE = 10000\n",
    "IMAGE_WIDTH = 28\n",
    "IMAGE_HEIGHT = 28\n",
    "CHANNELS = 1\n",
    "TOTAL_INPUTS = IMAGE_WIDTH*IMAGE_HEIGHT*CHANNELS"
   ]
  },
  {
   "cell_type": "markdown",
   "id": "3dc87b94",
   "metadata": {
    "id": "3dc87b94"
   },
   "source": [
    "# Get the Data"
   ]
  },
  {
   "cell_type": "code",
   "execution_count": 4,
   "id": "b9b0eaa0",
   "metadata": {
    "colab": {
     "base_uri": "https://localhost:8080/",
     "height": 426
    },
    "executionInfo": {
     "elapsed": 903,
     "status": "ok",
     "timestamp": 1699609317686,
     "user": {
      "displayName": "Chaitanya Singh",
      "userId": "01728994715768301794"
     },
     "user_tz": 420
    },
    "id": "b9b0eaa0",
    "outputId": "cdff544d-6ef4-424e-8978-3080d8bd1e04"
   },
   "outputs": [
    {
     "name": "stdout",
     "output_type": "stream",
     "text": [
      "CPU times: user 1.41 ms, sys: 1.05 ms, total: 2.46 ms\n",
      "Wall time: 2.01 ms\n"
     ]
    }
   ],
   "source": [
    "%%time\n",
    "\n",
    "y_train_all = np.loadtxt(Y_TRAIN_PATH, delimiter=',', dtype=int)"
   ]
  },
  {
   "cell_type": "code",
   "execution_count": 5,
   "id": "031d9122",
   "metadata": {
    "id": "031d9122",
    "outputId": "2396db4a-b4be-4096-947e-9c3d97e1fd20"
   },
   "outputs": [
    {
     "data": {
      "text/plain": [
       "(60000,)"
      ]
     },
     "execution_count": 5,
     "metadata": {},
     "output_type": "execute_result"
    }
   ],
   "source": [
    "y_train_all.shape"
   ]
  },
  {
   "cell_type": "code",
   "execution_count": 6,
   "id": "77be4e83",
   "metadata": {
    "id": "77be4e83"
   },
   "outputs": [],
   "source": [
    "y_test = np.loadtxt(Y_TEST_PATH, delimiter=',', dtype=int)"
   ]
  },
  {
   "cell_type": "code",
   "execution_count": 7,
   "id": "86575619",
   "metadata": {
    "id": "86575619",
    "outputId": "cfe8d884-4769-4e93-d389-3028d4128cd9"
   },
   "outputs": [
    {
     "name": "stdout",
     "output_type": "stream",
     "text": [
      "CPU times: user 547 ms, sys: 61.3 ms, total: 608 ms\n",
      "Wall time: 639 ms\n"
     ]
    }
   ],
   "source": [
    "%%time\n",
    "\n",
    "x_train_all = np.loadtxt(X_TRAIN_PATH, delimiter=',', dtype=int)"
   ]
  },
  {
   "cell_type": "code",
   "execution_count": 8,
   "id": "a337492d",
   "metadata": {
    "id": "a337492d",
    "outputId": "b16164f2-bd3f-48d0-bd7a-8c440693e455"
   },
   "outputs": [
    {
     "name": "stdout",
     "output_type": "stream",
     "text": [
      "CPU times: user 92.1 ms, sys: 11.9 ms, total: 104 ms\n",
      "Wall time: 108 ms\n"
     ]
    }
   ],
   "source": [
    "%%time\n",
    "\n",
    "x_test = np.loadtxt(X_TEST_PATH, delimiter=',', dtype=int)"
   ]
  },
  {
   "cell_type": "markdown",
   "id": "60ffc67d",
   "metadata": {
    "id": "60ffc67d"
   },
   "source": [
    "# Explore"
   ]
  },
  {
   "cell_type": "code",
   "execution_count": 9,
   "id": "556bcd60",
   "metadata": {
    "id": "556bcd60",
    "outputId": "42fac257-643f-4bbd-b9b9-54ebc9e45710"
   },
   "outputs": [
    {
     "data": {
      "text/plain": [
       "(60000, 784)"
      ]
     },
     "execution_count": 9,
     "metadata": {},
     "output_type": "execute_result"
    }
   ],
   "source": [
    "x_train_all.shape"
   ]
  },
  {
   "cell_type": "code",
   "execution_count": 10,
   "id": "a2dc978d",
   "metadata": {
    "id": "a2dc978d",
    "outputId": "ac35daa4-d95e-4966-faa8-b6f9391ee2f5"
   },
   "outputs": [
    {
     "data": {
      "text/plain": [
       "array([  0,   0,   0,   0,   0,   0,   0,   0,   0,   0,   0,   0,   0,\n",
       "         0,   0,   0,   0,   0,   0,   0,   0,   0,   0,   0,   0,   0,\n",
       "         0,   0,   0,   0,   0,   0,   0,   0,   0,   0,   0,   0,   0,\n",
       "         0,   0,   0,   0,   0,   0,   0,   0,   0,   0,   0,   0,   0,\n",
       "         0,   0,   0,   0,   0,   0,   0,   0,   0,   0,   0,   0,   0,\n",
       "         0,   0,   0,   0,   0,   0,   0,   0,   0,   0,   0,   0,   0,\n",
       "         0,   0,   0,   0,   0,   0,   0,   0,   0,   0,   0,   0,   0,\n",
       "         0,   0,   0,   0,   0,   0,   0,   0,   0,   0,   0,   0,   0,\n",
       "         0,   0,   0,   0,   0,   0,   0,   0,   0,   0,   0,   0,   0,\n",
       "         0,   0,   0,   0,   0,   0,   0,   0,   0,   0,   0,   0,   0,\n",
       "         0,   0,   0,   0,   0,   0,   0,   0,   0,   0,   0,   0,   0,\n",
       "         0,   0,   0,   0,   0,   0,   0,   0,   0,   3,  18,  18,  18,\n",
       "       126, 136, 175,  26, 166, 255, 247, 127,   0,   0,   0,   0,   0,\n",
       "         0,   0,   0,   0,   0,   0,   0,  30,  36,  94, 154, 170, 253,\n",
       "       253, 253, 253, 253, 225, 172, 253, 242, 195,  64,   0,   0,   0,\n",
       "         0,   0,   0,   0,   0,   0,   0,   0,  49, 238, 253, 253, 253,\n",
       "       253, 253, 253, 253, 253, 251,  93,  82,  82,  56,  39,   0,   0,\n",
       "         0,   0,   0,   0,   0,   0,   0,   0,   0,   0,  18, 219, 253,\n",
       "       253, 253, 253, 253, 198, 182, 247, 241,   0,   0,   0,   0,   0,\n",
       "         0,   0,   0,   0,   0,   0,   0,   0,   0,   0,   0,   0,   0,\n",
       "        80, 156, 107, 253, 253, 205,  11,   0,  43, 154,   0,   0,   0,\n",
       "         0,   0,   0,   0,   0,   0,   0,   0,   0,   0,   0,   0,   0,\n",
       "         0,   0,   0,  14,   1, 154, 253,  90,   0,   0,   0,   0,   0,\n",
       "         0,   0,   0,   0,   0,   0,   0,   0,   0,   0,   0,   0,   0,\n",
       "         0,   0,   0,   0,   0,   0,   0, 139, 253, 190,   2,   0,   0,\n",
       "         0,   0,   0,   0,   0,   0,   0,   0,   0,   0,   0,   0,   0,\n",
       "         0,   0,   0,   0,   0,   0,   0,   0,   0,  11, 190, 253,  70,\n",
       "         0,   0,   0,   0,   0,   0,   0,   0,   0,   0,   0,   0,   0,\n",
       "         0,   0,   0,   0,   0,   0,   0,   0,   0,   0,   0,   0,  35,\n",
       "       241, 225, 160, 108,   1,   0,   0,   0,   0,   0,   0,   0,   0,\n",
       "         0,   0,   0,   0,   0,   0,   0,   0,   0,   0,   0,   0,   0,\n",
       "         0,   0,  81, 240, 253, 253, 119,  25,   0,   0,   0,   0,   0,\n",
       "         0,   0,   0,   0,   0,   0,   0,   0,   0,   0,   0,   0,   0,\n",
       "         0,   0,   0,   0,   0,  45, 186, 253, 253, 150,  27,   0,   0,\n",
       "         0,   0,   0,   0,   0,   0,   0,   0,   0,   0,   0,   0,   0,\n",
       "         0,   0,   0,   0,   0,   0,   0,   0,  16,  93, 252, 253, 187,\n",
       "         0,   0,   0,   0,   0,   0,   0,   0,   0,   0,   0,   0,   0,\n",
       "         0,   0,   0,   0,   0,   0,   0,   0,   0,   0,   0,   0, 249,\n",
       "       253, 249,  64,   0,   0,   0,   0,   0,   0,   0,   0,   0,   0,\n",
       "         0,   0,   0,   0,   0,   0,   0,   0,   0,   0,   0,  46, 130,\n",
       "       183, 253, 253, 207,   2,   0,   0,   0,   0,   0,   0,   0,   0,\n",
       "         0,   0,   0,   0,   0,   0,   0,   0,   0,   0,   0,  39, 148,\n",
       "       229, 253, 253, 253, 250, 182,   0,   0,   0,   0,   0,   0,   0,\n",
       "         0,   0,   0,   0,   0,   0,   0,   0,   0,   0,   0,  24, 114,\n",
       "       221, 253, 253, 253, 253, 201,  78,   0,   0,   0,   0,   0,   0,\n",
       "         0,   0,   0,   0,   0,   0,   0,   0,   0,   0,   0,  23,  66,\n",
       "       213, 253, 253, 253, 253, 198,  81,   2,   0,   0,   0,   0,   0,\n",
       "         0,   0,   0,   0,   0,   0,   0,   0,   0,   0,   0,  18, 171,\n",
       "       219, 253, 253, 253, 253, 195,  80,   9,   0,   0,   0,   0,   0,\n",
       "         0,   0,   0,   0,   0,   0,   0,   0,   0,   0,   0,  55, 172,\n",
       "       226, 253, 253, 253, 253, 244, 133,  11,   0,   0,   0,   0,   0,\n",
       "         0,   0,   0,   0,   0,   0,   0,   0,   0,   0,   0,   0,   0,\n",
       "       136, 253, 253, 253, 212, 135, 132,  16,   0,   0,   0,   0,   0,\n",
       "         0,   0,   0,   0,   0,   0,   0,   0,   0,   0,   0,   0,   0,\n",
       "         0,   0,   0,   0,   0,   0,   0,   0,   0,   0,   0,   0,   0,\n",
       "         0,   0,   0,   0,   0,   0,   0,   0,   0,   0,   0,   0,   0,\n",
       "         0,   0,   0,   0,   0,   0,   0,   0,   0,   0,   0,   0,   0,\n",
       "         0,   0,   0,   0,   0,   0,   0,   0,   0,   0,   0,   0,   0,\n",
       "         0,   0,   0,   0,   0,   0,   0,   0,   0,   0,   0,   0,   0,\n",
       "         0,   0,   0,   0,   0,   0,   0,   0,   0,   0,   0,   0,   0,\n",
       "         0,   0,   0,   0])"
      ]
     },
     "execution_count": 10,
     "metadata": {},
     "output_type": "execute_result"
    }
   ],
   "source": [
    "x_train_all[0]"
   ]
  },
  {
   "cell_type": "code",
   "execution_count": 11,
   "id": "13c69833",
   "metadata": {
    "id": "13c69833",
    "outputId": "93579f1e-5294-427a-8ee8-56b34355d4df"
   },
   "outputs": [
    {
     "data": {
      "text/plain": [
       "(60000,)"
      ]
     },
     "execution_count": 11,
     "metadata": {},
     "output_type": "execute_result"
    }
   ],
   "source": [
    "y_train_all.shape"
   ]
  },
  {
   "cell_type": "code",
   "execution_count": 12,
   "id": "03fd593d",
   "metadata": {
    "id": "03fd593d",
    "outputId": "ddaf5212-6e19-44a0-e0ae-ac3538aff7af"
   },
   "outputs": [
    {
     "data": {
      "text/plain": [
       "(10000,)"
      ]
     },
     "execution_count": 12,
     "metadata": {},
     "output_type": "execute_result"
    }
   ],
   "source": [
    "y_test.shape"
   ]
  },
  {
   "cell_type": "code",
   "execution_count": 13,
   "id": "080df05a",
   "metadata": {
    "id": "080df05a",
    "outputId": "f100059a-f4dd-49eb-d670-6edabb1f6f72"
   },
   "outputs": [
    {
     "data": {
      "text/plain": [
       "(10000, 784)"
      ]
     },
     "execution_count": 13,
     "metadata": {},
     "output_type": "execute_result"
    }
   ],
   "source": [
    "x_test.shape"
   ]
  },
  {
   "cell_type": "code",
   "execution_count": 14,
   "id": "a7d9c639",
   "metadata": {
    "id": "a7d9c639",
    "outputId": "a21ab6fd-3953-4d05-9d1a-75f2471ee0c4"
   },
   "outputs": [
    {
     "data": {
      "text/plain": [
       "array([5, 0, 4, 1, 9])"
      ]
     },
     "execution_count": 14,
     "metadata": {},
     "output_type": "execute_result"
    }
   ],
   "source": [
    "y_train_all[:5]"
   ]
  },
  {
   "cell_type": "markdown",
   "id": "efaa8436",
   "metadata": {
    "id": "efaa8436"
   },
   "source": [
    "# Data Preprocessing"
   ]
  },
  {
   "cell_type": "code",
   "execution_count": 15,
   "id": "0d1bc7dc",
   "metadata": {
    "id": "0d1bc7dc"
   },
   "outputs": [],
   "source": [
    "# Re-scale\n",
    "x_train_all, x_test = x_train_all / 255.0, x_test / 255.0"
   ]
  },
  {
   "cell_type": "markdown",
   "id": "5bfb384b",
   "metadata": {
    "id": "5bfb384b"
   },
   "source": [
    "### One hot encoding"
   ]
  },
  {
   "cell_type": "code",
   "execution_count": 16,
   "id": "535cc509",
   "metadata": {
    "id": "535cc509"
   },
   "outputs": [],
   "source": [
    "y_train_all = np.eye(NR_CLASSES)[y_train_all]"
   ]
  },
  {
   "cell_type": "code",
   "execution_count": 17,
   "id": "491eff5a",
   "metadata": {
    "id": "491eff5a",
    "outputId": "2adee978-3dd5-4b93-d2de-fd9ef758a05c"
   },
   "outputs": [
    {
     "data": {
      "text/plain": [
       "(60000, 10)"
      ]
     },
     "execution_count": 17,
     "metadata": {},
     "output_type": "execute_result"
    }
   ],
   "source": [
    "y_train_all.shape"
   ]
  },
  {
   "cell_type": "code",
   "execution_count": 18,
   "id": "253c310e",
   "metadata": {
    "id": "253c310e",
    "outputId": "6049638b-d8b9-43a3-f374-532be7733ab9"
   },
   "outputs": [
    {
     "data": {
      "text/plain": [
       "(10000, 10)"
      ]
     },
     "execution_count": 18,
     "metadata": {},
     "output_type": "execute_result"
    }
   ],
   "source": [
    "y_test = np.eye(NR_CLASSES)[y_test]\n",
    "y_test.shape"
   ]
  },
  {
   "cell_type": "markdown",
   "id": "9e6e8a2f",
   "metadata": {
    "id": "9e6e8a2f"
   },
   "source": [
    "## Create Validation from Training Data"
   ]
  },
  {
   "cell_type": "code",
   "execution_count": 19,
   "id": "7db0578a",
   "metadata": {
    "id": "7db0578a"
   },
   "outputs": [],
   "source": [
    "x_val = x_train_all[:VALIDATION_SIZE]\n",
    "y_val = y_train_all[:VALIDATION_SIZE]"
   ]
  },
  {
   "cell_type": "code",
   "execution_count": 20,
   "id": "1f0948cb",
   "metadata": {
    "id": "1f0948cb"
   },
   "outputs": [],
   "source": [
    "x_train = x_train_all[VALIDATION_SIZE:]\n",
    "y_train = y_train_all[VALIDATION_SIZE:]"
   ]
  },
  {
   "cell_type": "code",
   "execution_count": 21,
   "id": "aa8866a7",
   "metadata": {
    "id": "aa8866a7",
    "outputId": "637e067f-fc2e-4c8c-c718-a8f53c2de369"
   },
   "outputs": [
    {
     "data": {
      "text/plain": [
       "(10000, 784)"
      ]
     },
     "execution_count": 21,
     "metadata": {},
     "output_type": "execute_result"
    }
   ],
   "source": [
    "x_val.shape"
   ]
  },
  {
   "cell_type": "code",
   "execution_count": 22,
   "id": "70dec732",
   "metadata": {
    "id": "70dec732",
    "outputId": "aa1e2cb4-147f-4624-dede-cf2bf80560cc"
   },
   "outputs": [
    {
     "data": {
      "text/plain": [
       "(50000, 784)"
      ]
     },
     "execution_count": 22,
     "metadata": {},
     "output_type": "execute_result"
    }
   ],
   "source": [
    "x_train.shape"
   ]
  },
  {
   "cell_type": "markdown",
   "id": "36e0c454",
   "metadata": {
    "id": "36e0c454"
   },
   "source": [
    "# Setup Tensorflow Graph"
   ]
  },
  {
   "cell_type": "code",
   "execution_count": 23,
   "id": "6fb3dfba",
   "metadata": {
    "id": "6fb3dfba"
   },
   "outputs": [],
   "source": [
    "X = tf.placeholder(tf.float32, shape=[None, TOTAL_INPUTS], name='X')\n",
    "Y = tf.placeholder(tf.float32, shape=[None, NR_CLASSES], name='labels')"
   ]
  },
  {
   "cell_type": "markdown",
   "id": "2342041f",
   "metadata": {
    "id": "2342041f"
   },
   "source": [
    "### Neural Network Acrhitecture\n",
    "\n",
    "### Hyperparameters"
   ]
  },
  {
   "cell_type": "code",
   "execution_count": 24,
   "id": "fe95b636",
   "metadata": {
    "id": "fe95b636"
   },
   "outputs": [],
   "source": [
    "nr_epochs = 50\n",
    "learning_rate = 1e-3\n",
    "\n",
    "n_hidden1 = 512\n",
    "n_hidden2 = 64"
   ]
  },
  {
   "cell_type": "code",
   "execution_count": 25,
   "id": "9f93795c",
   "metadata": {
    "id": "9f93795c"
   },
   "outputs": [],
   "source": [
    "def setup_layer(input, weight_dim, bias_dim, name):\n",
    "\n",
    "    with tf.name_scope(name):\n",
    "        initial_w = tf.truncated_normal(shape=weight_dim, stddev=0.1, seed=42)\n",
    "        w = tf.Variable(initial_value=initial_w, name='W')\n",
    "\n",
    "        initial_b = tf.constant(value=0.0, shape=bias_dim)\n",
    "        b = tf.Variable(initial_value=initial_b, name='B')\n",
    "\n",
    "        layer_in = tf.matmul(input, w) + b\n",
    "\n",
    "        if name=='out':\n",
    "            layer_out = tf.nn.softmax(layer_in)\n",
    "        else:\n",
    "            layer_out = tf.nn.relu(layer_in)\n",
    "\n",
    "        tf.summary.histogram('weights', w)\n",
    "        tf.summary.histogram('biases', b)\n",
    "\n",
    "        return layer_out"
   ]
  },
  {
   "cell_type": "code",
   "execution_count": 26,
   "id": "57bb8b24",
   "metadata": {
    "id": "57bb8b24",
    "outputId": "6b3b8793-92d6-40e4-f561-e4d6060cad97"
   },
   "outputs": [
    {
     "name": "stdout",
     "output_type": "stream",
     "text": [
      "WARNING:tensorflow:From /opt/homebrew/anaconda3/lib/python3.11/site-packages/tensorflow/python/util/dispatch.py:1260: calling dropout (from tensorflow.python.ops.nn_ops) with keep_prob is deprecated and will be removed in a future version.\n",
      "Instructions for updating:\n",
      "Please use `rate` instead of `keep_prob`. Rate should be set to `rate = 1 - keep_prob`.\n"
     ]
    }
   ],
   "source": [
    "layer_1 = setup_layer(X, weight_dim=[TOTAL_INPUTS, n_hidden1],\n",
    "                      bias_dim=[n_hidden1], name='layer_1')\n",
    "\n",
    "layer_drop = tf.nn.dropout(layer_1, keep_prob=0.8, name='dropout_layer')\n",
    "\n",
    "layer_2 = setup_layer(layer_drop, weight_dim=[n_hidden1, n_hidden2],\n",
    "                      bias_dim=[n_hidden2], name='layer_2')\n",
    "\n",
    "output = setup_layer(layer_2, weight_dim=[n_hidden2, NR_CLASSES],\n",
    "                      bias_dim=[NR_CLASSES], name='out')\n",
    "\n",
    "model_name = f'{n_hidden1}-DO-{n_hidden2} LR{learning_rate} E{nr_epochs}'"
   ]
  },
  {
   "cell_type": "markdown",
   "id": "2590ae01",
   "metadata": {
    "id": "2590ae01"
   },
   "source": [
    "# Tensorboard Setup\n"
   ]
  },
  {
   "cell_type": "code",
   "execution_count": 27,
   "id": "f709f173",
   "metadata": {
    "id": "f709f173",
    "outputId": "ac023c6a-f22c-42cf-ceb3-1835f506b008"
   },
   "outputs": [
    {
     "name": "stdout",
     "output_type": "stream",
     "text": [
      "Successfully created directories!\n"
     ]
    }
   ],
   "source": [
    "# Folder for Tensorboard\n",
    "\n",
    "folder_name = f'{model_name} at {strftime(\"%H.%M\")}'\n",
    "directory = os.path.join(LOGGING_PATH, folder_name)\n",
    "\n",
    "try:\n",
    "    os.makedirs(directory)\n",
    "except OSError as exception:\n",
    "    print(exception.strerror)\n",
    "else:\n",
    "    print('Successfully created directories!')"
   ]
  },
  {
   "cell_type": "markdown",
   "id": "8d43cc10",
   "metadata": {
    "id": "8d43cc10"
   },
   "source": [
    "# Loss optimization amd Metrics"
   ]
  },
  {
   "cell_type": "markdown",
   "id": "9ddb16ad",
   "metadata": {
    "id": "9ddb16ad"
   },
   "source": [
    "### Defining Loss Function"
   ]
  },
  {
   "cell_type": "code",
   "execution_count": 28,
   "id": "55f6193e",
   "metadata": {
    "id": "55f6193e"
   },
   "outputs": [],
   "source": [
    "with tf.name_scope('loss_calc'):\n",
    "    loss = tf.reduce_mean(tf.nn.softmax_cross_entropy_with_logits_v2(labels=Y, logits=output))"
   ]
  },
  {
   "cell_type": "markdown",
   "id": "92cffcdc",
   "metadata": {
    "id": "92cffcdc"
   },
   "source": [
    "### Defining Optimizer"
   ]
  },
  {
   "cell_type": "code",
   "execution_count": 29,
   "id": "47299407",
   "metadata": {
    "id": "47299407"
   },
   "outputs": [],
   "source": [
    "with tf.name_scope('optimizer'):\n",
    "    optimizer = tf.train.AdamOptimizer(learning_rate)\n",
    "    train_step = optimizer.minimize(loss)"
   ]
  },
  {
   "cell_type": "markdown",
   "id": "93b3f6cc",
   "metadata": {
    "id": "93b3f6cc"
   },
   "source": [
    "### Accuracy Metric"
   ]
  },
  {
   "cell_type": "code",
   "execution_count": 30,
   "id": "f836c481",
   "metadata": {
    "id": "f836c481"
   },
   "outputs": [],
   "source": [
    "with tf.name_scope('accuracy_calc'):\n",
    "    correct_pred = tf.equal(tf.argmax(output, axis=1), tf.argmax(Y, axis=1))\n",
    "    accuracy = tf.reduce_mean(tf.cast(correct_pred, tf.float32))"
   ]
  },
  {
   "cell_type": "code",
   "execution_count": 31,
   "id": "3511c439",
   "metadata": {
    "id": "3511c439"
   },
   "outputs": [],
   "source": [
    "with tf.name_scope('performance'):\n",
    "    tf.summary.scalar('accuracy', accuracy)\n",
    "    tf.summary.scalar('cost', loss)"
   ]
  },
  {
   "cell_type": "markdown",
   "id": "9793b034",
   "metadata": {
    "id": "9793b034"
   },
   "source": [
    "#### Check Input Images in Tensorboard"
   ]
  },
  {
   "cell_type": "code",
   "execution_count": 32,
   "id": "83f995fa",
   "metadata": {
    "id": "83f995fa"
   },
   "outputs": [],
   "source": [
    "with tf.name_scope('show_image'):\n",
    "    x_image = tf.reshape(X, [-1, 28, 28, 1])\n",
    "    tf.summary.image('image_input', x_image, max_outputs=4)"
   ]
  },
  {
   "cell_type": "markdown",
   "id": "d3caee2c",
   "metadata": {
    "id": "d3caee2c"
   },
   "source": [
    "# Run Session\n"
   ]
  },
  {
   "cell_type": "code",
   "execution_count": 33,
   "id": "c58d47e9",
   "metadata": {
    "id": "c58d47e9"
   },
   "outputs": [],
   "source": [
    "sess = tf.Session()"
   ]
  },
  {
   "cell_type": "markdown",
   "id": "77855bb5",
   "metadata": {
    "id": "77855bb5"
   },
   "source": [
    "### Setup Filewriter and Merge Summaries"
   ]
  },
  {
   "cell_type": "code",
   "execution_count": 34,
   "id": "9d02ebc3",
   "metadata": {
    "id": "9d02ebc3"
   },
   "outputs": [],
   "source": [
    "merged_summary = tf.summary.merge_all()\n",
    "\n",
    "train_writer = tf.summary.FileWriter(directory + '/train')\n",
    "train_writer.add_graph(sess.graph)\n",
    "\n",
    "validation_writer = tf.summary.FileWriter(directory + '/validation')"
   ]
  },
  {
   "cell_type": "markdown",
   "id": "699cee67",
   "metadata": {
    "id": "699cee67"
   },
   "source": [
    "### Intialize all the varaibles"
   ]
  },
  {
   "cell_type": "code",
   "execution_count": 35,
   "id": "8c7fbc19",
   "metadata": {
    "id": "8c7fbc19"
   },
   "outputs": [
    {
     "name": "stderr",
     "output_type": "stream",
     "text": [
      "2023-12-01 06:07:51.787160: I tensorflow/compiler/mlir/mlir_graph_optimization_pass.cc:382] MLIR V1 optimization pass is not enabled\n"
     ]
    }
   ],
   "source": [
    "init = tf.global_variables_initializer()\n",
    "sess.run(init)"
   ]
  },
  {
   "cell_type": "markdown",
   "id": "8ba548d6",
   "metadata": {
    "id": "8ba548d6"
   },
   "source": [
    "### Batching"
   ]
  },
  {
   "cell_type": "code",
   "execution_count": 36,
   "id": "b2ac8de7",
   "metadata": {
    "id": "b2ac8de7"
   },
   "outputs": [],
   "source": [
    "size_of_batch = 1000"
   ]
  },
  {
   "cell_type": "code",
   "execution_count": 37,
   "id": "3905986d",
   "metadata": {
    "id": "3905986d"
   },
   "outputs": [],
   "source": [
    "num_examples = y_train.shape[0]\n",
    "nr_iterations = int(num_examples/size_of_batch)\n",
    "\n",
    "index_in_epoch = 0"
   ]
  },
  {
   "cell_type": "code",
   "execution_count": 38,
   "id": "97d6de2b",
   "metadata": {
    "id": "97d6de2b"
   },
   "outputs": [],
   "source": [
    "def next_batch(batch_size, data, labels):\n",
    "\n",
    "    global num_examples\n",
    "    global index_in_epoch\n",
    "\n",
    "    start = index_in_epoch\n",
    "    index_in_epoch += batch_size\n",
    "\n",
    "    if index_in_epoch > num_examples:\n",
    "        start = 0\n",
    "        index_in_epoch = batch_size\n",
    "\n",
    "    end = index_in_epoch\n",
    "\n",
    "    return data[start:end], labels[start:end]"
   ]
  },
  {
   "cell_type": "markdown",
   "id": "9daf63ba",
   "metadata": {
    "id": "9daf63ba"
   },
   "source": [
    "### Training Loop"
   ]
  },
  {
   "cell_type": "code",
   "execution_count": 39,
   "id": "db37d58e",
   "metadata": {
    "id": "db37d58e",
    "outputId": "b704db23-040c-47d8-9a85-727a0ed82423"
   },
   "outputs": [
    {
     "name": "stdout",
     "output_type": "stream",
     "text": [
      "Epoch 0 \t| Training Accuracy = 0.8500000238418579\n",
      "Epoch 1 \t| Training Accuracy = 0.8640000224113464\n",
      "Epoch 2 \t| Training Accuracy = 0.8629999756813049\n",
      "Epoch 3 \t| Training Accuracy = 0.8659999966621399\n",
      "Epoch 4 \t| Training Accuracy = 0.8730000257492065\n",
      "Epoch 5 \t| Training Accuracy = 0.8769999742507935\n",
      "Epoch 6 \t| Training Accuracy = 0.9660000205039978\n",
      "Epoch 7 \t| Training Accuracy = 0.9779999852180481\n",
      "Epoch 8 \t| Training Accuracy = 0.9760000109672546\n",
      "Epoch 9 \t| Training Accuracy = 0.9800000190734863\n",
      "Epoch 10 \t| Training Accuracy = 0.9869999885559082\n",
      "Epoch 11 \t| Training Accuracy = 0.9860000014305115\n",
      "Epoch 12 \t| Training Accuracy = 0.9869999885559082\n",
      "Epoch 13 \t| Training Accuracy = 0.9869999885559082\n",
      "Epoch 14 \t| Training Accuracy = 0.9869999885559082\n",
      "Epoch 15 \t| Training Accuracy = 0.9879999756813049\n",
      "Epoch 16 \t| Training Accuracy = 0.9890000224113464\n",
      "Epoch 17 \t| Training Accuracy = 0.9879999756813049\n",
      "Epoch 18 \t| Training Accuracy = 0.9909999966621399\n",
      "Epoch 19 \t| Training Accuracy = 0.9890000224113464\n",
      "Epoch 20 \t| Training Accuracy = 0.9890000224113464\n",
      "Epoch 21 \t| Training Accuracy = 0.9900000095367432\n",
      "Epoch 22 \t| Training Accuracy = 0.9890000224113464\n",
      "Epoch 23 \t| Training Accuracy = 0.9900000095367432\n",
      "Epoch 24 \t| Training Accuracy = 0.9919999837875366\n",
      "Epoch 25 \t| Training Accuracy = 0.9919999837875366\n",
      "Epoch 26 \t| Training Accuracy = 0.9900000095367432\n",
      "Epoch 27 \t| Training Accuracy = 0.9909999966621399\n",
      "Epoch 28 \t| Training Accuracy = 0.9919999837875366\n",
      "Epoch 29 \t| Training Accuracy = 0.9919999837875366\n",
      "Epoch 30 \t| Training Accuracy = 0.9919999837875366\n",
      "Epoch 31 \t| Training Accuracy = 0.9919999837875366\n",
      "Epoch 32 \t| Training Accuracy = 0.9919999837875366\n",
      "Epoch 33 \t| Training Accuracy = 0.9909999966621399\n",
      "Epoch 34 \t| Training Accuracy = 0.9929999709129333\n",
      "Epoch 35 \t| Training Accuracy = 0.9909999966621399\n",
      "Epoch 36 \t| Training Accuracy = 0.9929999709129333\n",
      "Epoch 37 \t| Training Accuracy = 0.9929999709129333\n",
      "Epoch 38 \t| Training Accuracy = 0.9919999837875366\n",
      "Epoch 39 \t| Training Accuracy = 0.9940000176429749\n",
      "Epoch 40 \t| Training Accuracy = 0.9919999837875366\n",
      "Epoch 41 \t| Training Accuracy = 0.9909999966621399\n",
      "Epoch 42 \t| Training Accuracy = 0.9940000176429749\n",
      "Epoch 43 \t| Training Accuracy = 0.9940000176429749\n",
      "Epoch 44 \t| Training Accuracy = 0.9940000176429749\n",
      "Epoch 45 \t| Training Accuracy = 0.9940000176429749\n",
      "Epoch 46 \t| Training Accuracy = 0.9929999709129333\n",
      "Epoch 47 \t| Training Accuracy = 0.9929999709129333\n",
      "Epoch 48 \t| Training Accuracy = 0.9940000176429749\n",
      "Epoch 49 \t| Training Accuracy = 0.9929999709129333\n",
      "Done training!\n"
     ]
    }
   ],
   "source": [
    "for epoch in range(nr_epochs):\n",
    "\n",
    "    for i in range(nr_iterations):\n",
    "\n",
    "        batch_x, batch_y = next_batch(batch_size=size_of_batch, data=x_train, labels=y_train)\n",
    "\n",
    "        feed_dictionary = {X:batch_x, Y:batch_y}\n",
    "\n",
    "        sess.run(train_step, feed_dict=feed_dictionary)\n",
    "\n",
    "\n",
    "    s, batch_accuracy = sess.run(fetches=[merged_summary, accuracy], feed_dict=feed_dictionary)\n",
    "\n",
    "    train_writer.add_summary(s, epoch)\n",
    "\n",
    "    print(f'Epoch {epoch} \\t| Training Accuracy = {batch_accuracy}')\n",
    "\n",
    "    summary = sess.run(fetches=merged_summary, feed_dict={X:x_val, Y:y_val})\n",
    "    validation_writer.add_summary(summary, epoch)\n",
    "\n",
    "print('Done training!')"
   ]
  },
  {
   "cell_type": "markdown",
   "id": "2aabd8a0",
   "metadata": {
    "id": "2aabd8a0"
   },
   "source": [
    "# Make Prediction"
   ]
  },
  {
   "cell_type": "code",
   "execution_count": 40,
   "id": "5d82e21a",
   "metadata": {
    "id": "5d82e21a",
    "outputId": "59d027cc-bdd0-4a6c-9e36-f022ac7f0b13"
   },
   "outputs": [
    {
     "data": {
      "image/png": "[encoded data removed]",
      "text/plain": [
       "<PIL.PngImagePlugin.PngImageFile image mode=RGBA size=28x28>"
      ]
     },
     "execution_count": 40,
     "metadata": {},
     "output_type": "execute_result"
    }
   ],
   "source": [
    "img = Image.open('MINIST/test_img.png')\n",
    "img"
   ]
  },
  {
   "cell_type": "code",
   "execution_count": 41,
   "id": "3f4b2424",
   "metadata": {
    "id": "3f4b2424"
   },
   "outputs": [],
   "source": [
    "bw = img.convert('L')"
   ]
  },
  {
   "cell_type": "code",
   "execution_count": 42,
   "id": "3fef2af4",
   "metadata": {
    "id": "3fef2af4",
    "outputId": "c50fec63-2041-4c09-b5e4-f67ae53843e9"
   },
   "outputs": [
    {
     "data": {
      "text/plain": [
       "(28, 28)"
      ]
     },
     "execution_count": 42,
     "metadata": {},
     "output_type": "execute_result"
    }
   ],
   "source": [
    "img_array = np.invert(bw)\n",
    "img_array.shape"
   ]
  },
  {
   "cell_type": "code",
   "execution_count": 43,
   "id": "ae0a54f1",
   "metadata": {
    "id": "ae0a54f1"
   },
   "outputs": [],
   "source": [
    "test_img = img_array.ravel()"
   ]
  },
  {
   "cell_type": "code",
   "execution_count": 44,
   "id": "365b4b39",
   "metadata": {
    "id": "365b4b39",
    "outputId": "1fd74b2d-476f-4bbe-be33-ae0f1bae20a0"
   },
   "outputs": [
    {
     "data": {
      "text/plain": [
       "(784,)"
      ]
     },
     "execution_count": 44,
     "metadata": {},
     "output_type": "execute_result"
    }
   ],
   "source": [
    "test_img.shape"
   ]
  },
  {
   "cell_type": "code",
   "execution_count": 45,
   "id": "eadae719",
   "metadata": {
    "id": "eadae719"
   },
   "outputs": [],
   "source": [
    "prediction = sess.run(fetches=tf.argmax(output, axis=1), feed_dict={X:[test_img]})"
   ]
  },
  {
   "cell_type": "code",
   "execution_count": 46,
   "id": "e2a64be2",
   "metadata": {
    "id": "e2a64be2",
    "outputId": "c54686b7-765b-4bf5-fa64-006f28ee6ff7"
   },
   "outputs": [
    {
     "name": "stdout",
     "output_type": "stream",
     "text": [
      "Prediction for test image is [2]\n"
     ]
    }
   ],
   "source": [
    "print(f'Prediction for test image is {prediction}')"
   ]
  },
  {
   "cell_type": "markdown",
   "id": "5ae7a2d5",
   "metadata": {
    "id": "5ae7a2d5"
   },
   "source": [
    "# Testing and Evalulation"
   ]
  },
  {
   "cell_type": "code",
   "execution_count": 47,
   "id": "af9bba74",
   "metadata": {
    "id": "af9bba74",
    "outputId": "81d029ae-4e11-4f00-ae03-2ed109570bff"
   },
   "outputs": [
    {
     "name": "stdout",
     "output_type": "stream",
     "text": [
      "Accuracy on test set is 97.73%\n"
     ]
    }
   ],
   "source": [
    "test_accuracy = sess.run(fetches=accuracy, feed_dict={X:x_test, Y:y_test})\n",
    "print(f'Accuracy on test set is {test_accuracy:0.2%}')"
   ]
  },
  {
   "cell_type": "markdown",
   "id": "bd28ca2b",
   "metadata": {
    "id": "bd28ca2b"
   },
   "source": [
    "# Reset for the Next run"
   ]
  },
  {
   "cell_type": "code",
   "execution_count": 48,
   "id": "60d9e533",
   "metadata": {
    "id": "60d9e533"
   },
   "outputs": [],
   "source": [
    "train_writer.close()\n",
    "validation_writer.close()\n",
    "sess.close()\n",
    "tf.reset_default_graph()"
   ]
  },
  {
   "cell_type": "code",
   "execution_count": null,
   "id": "93e9b41b",
   "metadata": {
    "id": "93e9b41b"
   },
   "outputs": [],
   "source": []
  },
  {
   "cell_type": "markdown",
   "id": "9fd2e4f6",
   "metadata": {
    "id": "9fd2e4f6"
   },
   "source": [
    "# Reductant Code"
   ]
  },
  {
   "cell_type": "code",
   "execution_count": 49,
   "id": "7167369f",
   "metadata": {
    "id": "7167369f"
   },
   "outputs": [],
   "source": [
    "# with tf.name_scope('first_hidden_layer'):\n",
    "\n",
    "#     initial_w1 = tf.truncated_normal(shape=[TOTAL_INPUTS, n_hidden1], stddev=0.1, seed=42)\n",
    "#     w1 = tf.Variable(initial_value=initial_w1, name='W1')\n",
    "\n",
    "#     initial_b1 = tf.constant(value=0.0, shape=[n_hidden1])\n",
    "#     b1 = tf.Variable(initial_value=initial_b1, name='B1')\n",
    "\n",
    "#     layer1_in = tf.matmul(X, w1) + b1\n",
    "#     layer1_out = tf.nn.relu(layer1_in)"
   ]
  },
  {
   "cell_type": "code",
   "execution_count": 50,
   "id": "95ccfd36",
   "metadata": {
    "id": "95ccfd36"
   },
   "outputs": [],
   "source": [
    "# with tf.name_scope('second_hidden_layer'):\n",
    "\n",
    "#     initial_w2 = tf.truncated_normal(shape=[n_hidden1, n_hidden2], stddev=0.1, seed=42)\n",
    "#     w2 = tf.Variable(initial_value=initial_w2, name='W2')\n",
    "\n",
    "#     initial_b2 = tf.constant(value=0.0, shape=[n_hidden2])\n",
    "#     b2 = tf.Variable(initial_value=initial_b2, name='B2')\n",
    "\n",
    "#     layer2_in = tf.matmul(layer1_out, w2) + b2\n",
    "#     layer2_out = tf.nn.relu(layer2_in)"
   ]
  },
  {
   "cell_type": "code",
   "execution_count": 51,
   "id": "d947e9a1",
   "metadata": {
    "id": "d947e9a1"
   },
   "outputs": [],
   "source": [
    "# with tf.name_scope('output_layer'):\n",
    "\n",
    "#     initial_w3 = tf.truncated_normal(shape=[n_hidden2, NR_CLASSES], stddev=0.1, seed=42)\n",
    "#     w3 = tf.Variable(initial_value=initial_w3, name='W3')\n",
    "\n",
    "#     initial_b3 = tf.constant(value=0.0, shape=[NR_CLASSES])\n",
    "#     b3 = tf.Variable(initial_value=initial_b3, name='B3')\n",
    "\n",
    "#     layer3_in = tf.matmul(layer2_out, w3) + b3\n",
    "#     output = tf.nn.softmax(layer3_in)"
   ]
  },
  {
   "cell_type": "code",
   "execution_count": 52,
   "id": "856dc821",
   "metadata": {
    "id": "856dc821"
   },
   "outputs": [],
   "source": [
    "# b3.eval(sess)"
   ]
  },
  {
   "cell_type": "code",
   "execution_count": 53,
   "id": "3ce68021",
   "metadata": {
    "id": "3ce68021"
   },
   "outputs": [],
   "source": [
    "# Model without drop out\n",
    "\n",
    "# layer_1 = setup_layer(X, weight_dim=[TOTAL_INPUTS, n_hidden1],\n",
    "#                      bias_dim=[n_hidden1], name='layer_1')\n",
    "\n",
    "# layer_2 = setup_layer(layer_1, weight_dim=[n_hidden1, n_hidden2],\n",
    "#                      bias_dim=[n_hidden2], name='layer_2')\n",
    "\n",
    "# output = setup_layer(layer_2, weight_dim=[n_hidden2, NR_CLASSES],\n",
    "#                      bias_dim=[NR_CLASSES], name='out')\n",
    "\n",
    "# model_name = f'{n_hidden1}-{n_hidden2} LR{learning_rate} E{nr_epochs}'"
   ]
  }
 ],
 "metadata": {
  "colab": {
   "provenance": []
  },
  "kernelspec": {
   "display_name": "Python 3 (ipykernel)",
   "language": "python",
   "name": "python3"
  },
  "language_info": {
   "codemirror_mode": {
    "name": "ipython",
    "version": 3
   },
   "file_extension": ".py",
   "mimetype": "text/x-python",
   "name": "python",
   "nbconvert_exporter": "python",
   "pygments_lexer": "ipython3",
   "version": "3.11.5"
  }
 },
 "nbformat": 4,
 "nbformat_minor": 5
}
